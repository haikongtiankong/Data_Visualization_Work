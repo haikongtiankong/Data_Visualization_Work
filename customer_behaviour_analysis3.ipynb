{
 "cells": [
  {
   "cell_type": "code",
   "execution_count": 1,
   "id": "7375bf93",
   "metadata": {},
   "outputs": [],
   "source": [
    "import numpy as np\n",
    "import pandas as pd\n",
    "import matplotlib.pyplot as plt\n",
    "%matplotlib inline\n",
    "plt.rcParams['font.sans-serif']=['SimHei']\n",
    "from datetime import datetime"
   ]
  },
  {
   "cell_type": "code",
   "execution_count": 3,
   "id": "cc78c856",
   "metadata": {},
   "outputs": [
    {
     "name": "stdout",
     "output_type": "stream",
     "text": [
      "<class 'pandas.core.frame.DataFrame'>\n",
      "RangeIndex: 1754884 entries, 0 to 1754883\n",
      "Data columns (total 7 columns):\n",
      " #   Column         Dtype         \n",
      "---  ------         -----         \n",
      " 0   User_id        int64         \n",
      " 1   Merchant_id    int64         \n",
      " 2   Coupon_id      float64       \n",
      " 3   Discount_rate  object        \n",
      " 4   Distance       float64       \n",
      " 5   Date_received  datetime64[ns]\n",
      " 6   Date           datetime64[ns]\n",
      "dtypes: datetime64[ns](2), float64(2), int64(2), object(1)\n",
      "memory usage: 93.7+ MB\n"
     ]
    }
   ],
   "source": [
    "offline = pd.read_csv('practice_data/ccf_offline_stage1_train.csv', parse_dates=['Date_received','Date'])\n",
    "offline.info()"
   ]
  },
  {
   "cell_type": "markdown",
   "id": "83f89dc6",
   "metadata": {},
   "source": [
    "## 数据的规整"
   ]
  },
  {
   "cell_type": "markdown",
   "id": "02c66b8e",
   "metadata": {},
   "source": [
    "### 2.1 把discount_rate中的满减政策转换成折扣率"
   ]
  },
  {
   "cell_type": "code",
   "execution_count": 6,
   "id": "33e511b2",
   "metadata": {},
   "outputs": [],
   "source": [
    "offline['Discount_rate'] = offline['Discount_rate'].fillna('null')"
   ]
  },
  {
   "cell_type": "code",
   "execution_count": 7,
   "id": "73e804ae",
   "metadata": {},
   "outputs": [],
   "source": [
    "def discount_rate_opt(s):\n",
    "    if s == 'null':\n",
    "        return np.NaN\n",
    "    if ':' in s:\n",
    "        split = s.split(':')\n",
    "        discount_rate = (int(split[0]) - int(split[1])) / int(split[0]) \n",
    "        return round(discount_rate, 2)\n",
    "    else:\n",
    "        return float(s)"
   ]
  },
  {
   "cell_type": "code",
   "execution_count": 8,
   "id": "867260c1",
   "metadata": {},
   "outputs": [
    {
     "data": {
      "text/html": [
       "<div>\n",
       "<style scoped>\n",
       "    .dataframe tbody tr th:only-of-type {\n",
       "        vertical-align: middle;\n",
       "    }\n",
       "\n",
       "    .dataframe tbody tr th {\n",
       "        vertical-align: top;\n",
       "    }\n",
       "\n",
       "    .dataframe thead th {\n",
       "        text-align: right;\n",
       "    }\n",
       "</style>\n",
       "<table border=\"1\" class=\"dataframe\">\n",
       "  <thead>\n",
       "    <tr style=\"text-align: right;\">\n",
       "      <th></th>\n",
       "      <th>User_id</th>\n",
       "      <th>Merchant_id</th>\n",
       "      <th>Coupon_id</th>\n",
       "      <th>Discount_rate</th>\n",
       "      <th>Distance</th>\n",
       "      <th>Date_received</th>\n",
       "      <th>Date</th>\n",
       "    </tr>\n",
       "  </thead>\n",
       "  <tbody>\n",
       "    <tr>\n",
       "      <th>0</th>\n",
       "      <td>1439408</td>\n",
       "      <td>2632</td>\n",
       "      <td>NaN</td>\n",
       "      <td>NaN</td>\n",
       "      <td>0.0</td>\n",
       "      <td>NaT</td>\n",
       "      <td>2016-02-17</td>\n",
       "    </tr>\n",
       "    <tr>\n",
       "      <th>1</th>\n",
       "      <td>1439408</td>\n",
       "      <td>4663</td>\n",
       "      <td>11002.0</td>\n",
       "      <td>0.87</td>\n",
       "      <td>1.0</td>\n",
       "      <td>2016-05-28</td>\n",
       "      <td>NaT</td>\n",
       "    </tr>\n",
       "    <tr>\n",
       "      <th>2</th>\n",
       "      <td>1439408</td>\n",
       "      <td>2632</td>\n",
       "      <td>8591.0</td>\n",
       "      <td>0.95</td>\n",
       "      <td>0.0</td>\n",
       "      <td>2016-02-17</td>\n",
       "      <td>NaT</td>\n",
       "    </tr>\n",
       "    <tr>\n",
       "      <th>3</th>\n",
       "      <td>1439408</td>\n",
       "      <td>2632</td>\n",
       "      <td>1078.0</td>\n",
       "      <td>0.95</td>\n",
       "      <td>0.0</td>\n",
       "      <td>2016-03-19</td>\n",
       "      <td>NaT</td>\n",
       "    </tr>\n",
       "    <tr>\n",
       "      <th>4</th>\n",
       "      <td>1439408</td>\n",
       "      <td>2632</td>\n",
       "      <td>8591.0</td>\n",
       "      <td>0.95</td>\n",
       "      <td>0.0</td>\n",
       "      <td>2016-06-13</td>\n",
       "      <td>NaT</td>\n",
       "    </tr>\n",
       "  </tbody>\n",
       "</table>\n",
       "</div>"
      ],
      "text/plain": [
       "   User_id  Merchant_id  Coupon_id  Discount_rate  Distance Date_received  \\\n",
       "0  1439408         2632        NaN            NaN       0.0           NaT   \n",
       "1  1439408         4663    11002.0           0.87       1.0    2016-05-28   \n",
       "2  1439408         2632     8591.0           0.95       0.0    2016-02-17   \n",
       "3  1439408         2632     1078.0           0.95       0.0    2016-03-19   \n",
       "4  1439408         2632     8591.0           0.95       0.0    2016-06-13   \n",
       "\n",
       "        Date  \n",
       "0 2016-02-17  \n",
       "1        NaT  \n",
       "2        NaT  \n",
       "3        NaT  \n",
       "4        NaT  "
      ]
     },
     "execution_count": 8,
     "metadata": {},
     "output_type": "execute_result"
    }
   ],
   "source": [
    "offline['Discount_rate'] = offline['Discount_rate'].map(discount_rate_opt)\n",
    "offline.head()"
   ]
  },
  {
   "cell_type": "markdown",
   "id": "153179eb",
   "metadata": {},
   "source": [
    "## 2.2 Coupon_id字段：null代表无优惠卷，此时Discount_rate与Date_received字段无意义\n",
    "检查Coupon_id和Discount_rate与Discount_received是否一一对应"
   ]
  },
  {
   "cell_type": "code",
   "execution_count": 10,
   "id": "fe8f5ce6",
   "metadata": {},
   "outputs": [
    {
     "data": {
      "text/plain": [
       "True"
      ]
     },
     "execution_count": 10,
     "metadata": {},
     "output_type": "execute_result"
    }
   ],
   "source": [
    "nan1 = offline['Coupon_id'].isnull() #判断优惠卷是否为空\n",
    "nan2 = offline['Date_received'].isnull()\n",
    "np.all(nan1 == nan2) #如果结果为True，说明Coupon_id与Date_received空值与非空值一一对应"
   ]
  },
  {
   "cell_type": "code",
   "execution_count": 11,
   "id": "b0dec735",
   "metadata": {},
   "outputs": [
    {
     "data": {
      "text/plain": [
       "True"
      ]
     },
     "execution_count": 11,
     "metadata": {},
     "output_type": "execute_result"
    }
   ],
   "source": [
    "nan1 = offline['Coupon_id'].isnull() \n",
    "nan2 = offline['Discount_rate'].isnull()\n",
    "np.all(nan1 == nan2)"
   ]
  },
  {
   "cell_type": "markdown",
   "id": "58e844af",
   "metadata": {},
   "source": [
    "## 2.3 消费情况分类\n",
    "Date=null且Coupon_id!=null, 有优惠卷没消费 (cpon_no_consume)\n",
    "Date=null且Coupon_id=null, 无优惠卷且没消费 (no_cpon_no_consume)\n",
    "Date!=null且Coupon_id=null, 消费了但是没用优惠卷 (no_cpon_consume)\n",
    "Date!=null且Coupon_id!=null, 有优惠卷且进行消费 (cpon_consume)"
   ]
  },
  {
   "cell_type": "code",
   "execution_count": 21,
   "id": "8154fc2a",
   "metadata": {},
   "outputs": [],
   "source": [
    "cpon_no_consume = offline[offline['Date'].isnull()&offline['Coupon_id'].notnull()]\n",
    "no_cpon_no_consume = offline[offline['Date'].isnull()&offline['Coupon_id'].isnull()]\n",
    "no_cpon_consume = offline[offline['Date'].notnull()&offline['Coupon_id'].isnull()]\n",
    "cpon_consume = offline[offline['Date'].notnull()&offline['Coupon_id'].notnull()]"
   ]
  },
  {
   "cell_type": "code",
   "execution_count": 22,
   "id": "0531d862",
   "metadata": {},
   "outputs": [
    {
     "name": "stdout",
     "output_type": "stream",
     "text": [
      "有券未消费:977900\n",
      "无券未消费:0\n",
      "无券消费:701602\n",
      "有券消费:75382\n"
     ]
    }
   ],
   "source": [
    "print('有券未消费:{}'.format(len(cpon_no_consume)))\n",
    "print('无券未消费:{}'.format(len(no_cpon_no_consume)))\n",
    "print('无券消费:{}'.format(len(np_cpon_consume)))\n",
    "print('有券消费:{}'.format(len(cpon_consume)))"
   ]
  },
  {
   "cell_type": "markdown",
   "id": "dd28aaa2",
   "metadata": {},
   "source": [
    "## 数据分析"
   ]
  },
  {
   "cell_type": "code",
   "execution_count": 23,
   "id": "90516fb9",
   "metadata": {},
   "outputs": [],
   "source": [
    "consume_state_dict = {'cpon_no_consume':len(cpon_no_consume), 'np_cpon_consume':len(np_cpon_consume), 'cpon_consume':len(cpon_consume)}\n",
    "consume_status = pd.Series(consume_state_dict)"
   ]
  },
  {
   "cell_type": "code",
   "execution_count": 26,
   "id": "b467361a",
   "metadata": {},
   "outputs": [
    {
     "data": {
      "text/plain": [
       "<matplotlib.legend.Legend at 0x156895b8d30>"
      ]
     },
     "execution_count": 26,
     "metadata": {},
     "output_type": "execute_result"
    },
    {
     "data": {
      "image/png": "[encoded data removed]",
      "text/plain": [
       "<Figure size 800x1000 with 1 Axes>"
      ]
     },
     "metadata": {},
     "output_type": "display_data"
    }
   ],
   "source": [
    "#消费方式构成的饼图\n",
    "fig,ax=plt.subplots(1,1,figsize=(8,10))\n",
    "consume_status.plot.pie(ax=ax, autopct='%1.1f%%', shadow=True, explode=[0.02,0.05,0.02],textprops={'fontsize':15, 'color':'blue'},\n",
    "                       wedgeprops={'linewidth':1,'edgecolor':'black'},labels=['有券未消费\\n ({})'.format(len(cpon_no_consume)),\n",
    "                                                                              '无券消费\\n ({})'.format(len(no_cpon_consume)),\n",
    "                                                                             '有券消费\\n ({})'.format(len(cpon_consume))])\n",
    "ax.set_ylabel('') #去除ylabel\n",
    "ax.set_title('消费占比情况')\n",
    "plt.legend(labels=['有券未消费','无券消费','有券消费'])"
   ]
  },
  {
   "cell_type": "markdown",
   "id": "be654013",
   "metadata": {},
   "source": [
    "## 3.1 在有券消费人群中，分析距离和优惠折扣力度"
   ]
  },
  {
   "cell_type": "code",
   "execution_count": 27,
   "id": "c4a023a5",
   "metadata": {},
   "outputs": [
    {
     "data": {
      "text/plain": [
       "Merchant_id\n",
       "3       0.000000\n",
       "4       0.000000\n",
       "5       1.000000\n",
       "13      0.000000\n",
       "14      0.000000\n",
       "          ...   \n",
       "8844    2.916667\n",
       "8849    0.000000\n",
       "8850    4.333333\n",
       "8852         NaN\n",
       "8856    0.000000\n",
       "Name: Distance, Length: 4076, dtype: float64"
      ]
     },
     "execution_count": 27,
     "metadata": {},
     "output_type": "execute_result"
    }
   ],
   "source": [
    "#各个商家对应的顾客到店平均距离\n",
    "Merchant_distance = cpon_consume.groupby('Merchant_id')['Distance'].mean()\n",
    "Merchant_distance"
   ]
  },
  {
   "cell_type": "code",
   "execution_count": 30,
   "id": "bd3663fa",
   "metadata": {},
   "outputs": [
    {
     "data": {
      "text/plain": [
       "<Axes: >"
      ]
     },
     "execution_count": 30,
     "metadata": {},
     "output_type": "execute_result"
    },
    {
     "data": {
      "image/png": "[encoded data removed]",
      "text/plain": [
       "<Figure size 640x480 with 1 Axes>"
      ]
     },
     "metadata": {},
     "output_type": "display_data"
    }
   ],
   "source": [
    "#各商家对应顾客到店消费平均折扣力度\n",
    "Merchant_discount_rate = cpon_consume.groupby('Merchant_id')['Discount_rate'].mean()\n",
    "Merchant_discount_rate.sort_values()\n",
    "Merchant_discount_rate.hist()"
   ]
  },
  {
   "cell_type": "markdown",
   "id": "2cdbbd95",
   "metadata": {},
   "source": [
    "## 3.2 持券到店消费人数最多的商家"
   ]
  },
  {
   "cell_type": "code",
   "execution_count": 33,
   "id": "b259c93c",
   "metadata": {},
   "outputs": [
    {
     "name": "stdout",
     "output_type": "stream",
     "text": [
      "共有16家店铺持券消费人数在500人以上\n"
     ]
    }
   ],
   "source": [
    "popular_merchant = cpon_consume.groupby('Merchant_id')['User_id'].apply(lambda x: len(x.unique())).sort_values(ascending=False)\n",
    "popular_merchant500 = popular_merchant[popular_merchant>500]\n",
    "print('共有{}家店铺持券消费人数在500人以上'.format(len(popular_merchant500)))"
   ]
  },
  {
   "cell_type": "markdown",
   "id": "a7dd10a8",
   "metadata": {},
   "source": [
    "## 3.3 持券消费人数在500人以上商家，连接顾客到店平均距离和平均折扣力度"
   ]
  },
  {
   "cell_type": "code",
   "execution_count": 36,
   "id": "bfb5c6f8",
   "metadata": {},
   "outputs": [
    {
     "data": {
      "text/html": [
       "<div>\n",
       "<style scoped>\n",
       "    .dataframe tbody tr th:only-of-type {\n",
       "        vertical-align: middle;\n",
       "    }\n",
       "\n",
       "    .dataframe tbody tr th {\n",
       "        vertical-align: top;\n",
       "    }\n",
       "\n",
       "    .dataframe thead th {\n",
       "        text-align: right;\n",
       "    }\n",
       "</style>\n",
       "<table border=\"1\" class=\"dataframe\">\n",
       "  <thead>\n",
       "    <tr style=\"text-align: right;\">\n",
       "      <th></th>\n",
       "      <th>customer_count</th>\n",
       "      <th>Distance</th>\n",
       "      <th>Discount_rate</th>\n",
       "    </tr>\n",
       "    <tr>\n",
       "      <th>Merchant_id</th>\n",
       "      <th></th>\n",
       "      <th></th>\n",
       "      <th></th>\n",
       "    </tr>\n",
       "  </thead>\n",
       "  <tbody>\n",
       "    <tr>\n",
       "      <th>5341</th>\n",
       "      <td>2800</td>\n",
       "      <td>0.168598</td>\n",
       "      <td>0.826036</td>\n",
       "    </tr>\n",
       "    <tr>\n",
       "      <th>760</th>\n",
       "      <td>2627</td>\n",
       "      <td>0.349866</td>\n",
       "      <td>0.799873</td>\n",
       "    </tr>\n",
       "    <tr>\n",
       "      <th>3381</th>\n",
       "      <td>2248</td>\n",
       "      <td>1.652429</td>\n",
       "      <td>0.744150</td>\n",
       "    </tr>\n",
       "    <tr>\n",
       "      <th>6485</th>\n",
       "      <td>2029</td>\n",
       "      <td>0.368567</td>\n",
       "      <td>0.770439</td>\n",
       "    </tr>\n",
       "    <tr>\n",
       "      <th>2099</th>\n",
       "      <td>1401</td>\n",
       "      <td>0.968072</td>\n",
       "      <td>0.900000</td>\n",
       "    </tr>\n",
       "    <tr>\n",
       "      <th>2934</th>\n",
       "      <td>1310</td>\n",
       "      <td>1.114833</td>\n",
       "      <td>0.830000</td>\n",
       "    </tr>\n",
       "    <tr>\n",
       "      <th>450</th>\n",
       "      <td>1094</td>\n",
       "      <td>0.892164</td>\n",
       "      <td>0.819274</td>\n",
       "    </tr>\n",
       "    <tr>\n",
       "      <th>3532</th>\n",
       "      <td>968</td>\n",
       "      <td>0.272498</td>\n",
       "      <td>0.852289</td>\n",
       "    </tr>\n",
       "    <tr>\n",
       "      <th>7555</th>\n",
       "      <td>925</td>\n",
       "      <td>1.329977</td>\n",
       "      <td>0.828381</td>\n",
       "    </tr>\n",
       "    <tr>\n",
       "      <th>1520</th>\n",
       "      <td>870</td>\n",
       "      <td>NaN</td>\n",
       "      <td>0.925632</td>\n",
       "    </tr>\n",
       "    <tr>\n",
       "      <th>6901</th>\n",
       "      <td>855</td>\n",
       "      <td>0.557895</td>\n",
       "      <td>0.834165</td>\n",
       "    </tr>\n",
       "    <tr>\n",
       "      <th>3621</th>\n",
       "      <td>851</td>\n",
       "      <td>0.472799</td>\n",
       "      <td>0.747565</td>\n",
       "    </tr>\n",
       "    <tr>\n",
       "      <th>4142</th>\n",
       "      <td>832</td>\n",
       "      <td>0.555882</td>\n",
       "      <td>0.900000</td>\n",
       "    </tr>\n",
       "    <tr>\n",
       "      <th>1379</th>\n",
       "      <td>587</td>\n",
       "      <td>0.706250</td>\n",
       "      <td>0.830096</td>\n",
       "    </tr>\n",
       "    <tr>\n",
       "      <th>1469</th>\n",
       "      <td>584</td>\n",
       "      <td>2.092800</td>\n",
       "      <td>0.721870</td>\n",
       "    </tr>\n",
       "    <tr>\n",
       "      <th>1433</th>\n",
       "      <td>559</td>\n",
       "      <td>1.054962</td>\n",
       "      <td>0.825959</td>\n",
       "    </tr>\n",
       "  </tbody>\n",
       "</table>\n",
       "</div>"
      ],
      "text/plain": [
       "             customer_count  Distance  Discount_rate\n",
       "Merchant_id                                         \n",
       "5341                   2800  0.168598       0.826036\n",
       "760                    2627  0.349866       0.799873\n",
       "3381                   2248  1.652429       0.744150\n",
       "6485                   2029  0.368567       0.770439\n",
       "2099                   1401  0.968072       0.900000\n",
       "2934                   1310  1.114833       0.830000\n",
       "450                    1094  0.892164       0.819274\n",
       "3532                    968  0.272498       0.852289\n",
       "7555                    925  1.329977       0.828381\n",
       "1520                    870       NaN       0.925632\n",
       "6901                    855  0.557895       0.834165\n",
       "3621                    851  0.472799       0.747565\n",
       "4142                    832  0.555882       0.900000\n",
       "1379                    587  0.706250       0.830096\n",
       "1469                    584  2.092800       0.721870\n",
       "1433                    559  1.054962       0.825959"
      ]
     },
     "execution_count": 36,
     "metadata": {},
     "output_type": "execute_result"
    }
   ],
   "source": [
    "merchant_pop_dis = pd.merge(left=popular_merchant500, right=Merchant_distance, on='Merchant_id', how='inner')\n",
    "merchant_pop_dis_rate = pd.merge(left=merchant_pop_dis, right=Merchant_discount_rate, on='Merchant_id',how='inner')\n",
    "merchant_pop_dis_rate.rename(columns={'User_id':'customer_count'}, inplace=True)\n",
    "merchant_pop_dis_rate"
   ]
  },
  {
   "cell_type": "code",
   "execution_count": 37,
   "id": "22581e8a",
   "metadata": {},
   "outputs": [
    {
     "data": {
      "text/html": [
       "<div>\n",
       "<style scoped>\n",
       "    .dataframe tbody tr th:only-of-type {\n",
       "        vertical-align: middle;\n",
       "    }\n",
       "\n",
       "    .dataframe tbody tr th {\n",
       "        vertical-align: top;\n",
       "    }\n",
       "\n",
       "    .dataframe thead th {\n",
       "        text-align: right;\n",
       "    }\n",
       "</style>\n",
       "<table border=\"1\" class=\"dataframe\">\n",
       "  <thead>\n",
       "    <tr style=\"text-align: right;\">\n",
       "      <th></th>\n",
       "      <th>customer_count</th>\n",
       "      <th>Distance</th>\n",
       "      <th>Discount_rate</th>\n",
       "    </tr>\n",
       "  </thead>\n",
       "  <tbody>\n",
       "    <tr>\n",
       "      <th>customer_count</th>\n",
       "      <td>1.000000</td>\n",
       "      <td>-0.306180</td>\n",
       "      <td>-0.204102</td>\n",
       "    </tr>\n",
       "    <tr>\n",
       "      <th>Distance</th>\n",
       "      <td>-0.306180</td>\n",
       "      <td>1.000000</td>\n",
       "      <td>-0.397376</td>\n",
       "    </tr>\n",
       "    <tr>\n",
       "      <th>Discount_rate</th>\n",
       "      <td>-0.204102</td>\n",
       "      <td>-0.397376</td>\n",
       "      <td>1.000000</td>\n",
       "    </tr>\n",
       "  </tbody>\n",
       "</table>\n",
       "</div>"
      ],
      "text/plain": [
       "                customer_count  Distance  Discount_rate\n",
       "customer_count        1.000000 -0.306180      -0.204102\n",
       "Distance             -0.306180  1.000000      -0.397376\n",
       "Discount_rate        -0.204102 -0.397376       1.000000"
      ]
     },
     "execution_count": 37,
     "metadata": {},
     "output_type": "execute_result"
    }
   ],
   "source": [
    "merchant_pop_dis_rate.corr()"
   ]
  },
  {
   "cell_type": "code",
   "execution_count": 39,
   "id": "22455222",
   "metadata": {},
   "outputs": [
    {
     "name": "stderr",
     "output_type": "stream",
     "text": [
      "D:\\conda\\envs\\myenv1\\lib\\site-packages\\seaborn\\utils.py:80: UserWarning: Glyph 8722 (\\N{MINUS SIGN}) missing from current font.\n",
      "  fig.canvas.draw()\n"
     ]
    },
    {
     "data": {
      "text/plain": [
       "<Axes: >"
      ]
     },
     "execution_count": 39,
     "metadata": {},
     "output_type": "execute_result"
    },
    {
     "name": "stderr",
     "output_type": "stream",
     "text": [
      "D:\\conda\\envs\\myenv1\\lib\\site-packages\\IPython\\core\\events.py:89: UserWarning: Glyph 8722 (\\N{MINUS SIGN}) missing from current font.\n",
      "  func(*args, **kwargs)\n",
      "D:\\conda\\envs\\myenv1\\lib\\site-packages\\IPython\\core\\pylabtools.py:152: UserWarning: Glyph 8722 (\\N{MINUS SIGN}) missing from current font.\n",
      "  fig.canvas.print_figure(bytes_io, **kw)\n"
     ]
    },
    {
     "data": {
      "image/png": "[encoded data removed]",
      "text/plain": [
       "<Figure size 640x480 with 2 Axes>"
      ]
     },
     "metadata": {},
     "output_type": "display_data"
    }
   ],
   "source": [
    "#用热力图展示相关系数\n",
    "import seaborn as sns\n",
    "\n",
    "sns.heatmap(data=merchant_pop_dis_rate.corr(), cmap='Accent', annot=True, vmax=1, vmin=-1)"
   ]
  }
 ],
 "metadata": {
  "kernelspec": {
   "display_name": "Python 3 (ipykernel)",
   "language": "python",
   "name": "python3"
  },
  "language_info": {
   "codemirror_mode": {
    "name": "ipython",
    "version": 3
   },
   "file_extension": ".py",
   "mimetype": "text/x-python",
   "name": "python",
   "nbconvert_exporter": "python",
   "pygments_lexer": "ipython3",
   "version": "3.8.16"
  }
 },
 "nbformat": 4,
 "nbformat_minor": 5
}
